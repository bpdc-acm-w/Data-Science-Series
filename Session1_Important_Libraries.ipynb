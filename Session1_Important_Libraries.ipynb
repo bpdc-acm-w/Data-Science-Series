{
  "nbformat": 4,
  "nbformat_minor": 0,
  "metadata": {
    "colab": {
      "name": "Session1:Important Libraries",
      "provenance": [],
      "collapsed_sections": []
    },
    "kernelspec": {
      "name": "python3",
      "display_name": "Python 3"
    }
  },
  "cells": [
    {
      "cell_type": "markdown",
      "metadata": {
        "id": "FaGk4IfeD9Xn",
        "colab_type": "text"
      },
      "source": [
        "## ACM-W, MTC and MSPs present: Data Science Series - Session 1: The Numpy Stack"
      ]
    },
    {
      "cell_type": "markdown",
      "metadata": {
        "id": "yMdT0GiwAVUs",
        "colab_type": "text"
      },
      "source": [
        "## Section 1: Numpy "
      ]
    },
    {
      "cell_type": "code",
      "metadata": {
        "id": "ujm3bOuSAPAH",
        "colab_type": "code",
        "colab": {}
      },
      "source": [
        "import numpy as np"
      ],
      "execution_count": 0,
      "outputs": []
    },
    {
      "cell_type": "code",
      "metadata": {
        "id": "dVxjSPhgEgwo",
        "colab_type": "code",
        "colab": {
          "base_uri": "https://localhost:8080/",
          "height": 497
        },
        "outputId": "6b8364b2-fcae-4072-851a-5806853c3a76"
      },
      "source": [
        "#Creating a numpy array from python array\n",
        "l = [1,2,3,4]\n",
        "l_np = np.array(l)\n",
        "print(\"1 dimensional vector: \",l_np)\n",
        "print(\"Shape of vector: \",l_np.shape)\n",
        "print(\"Number of dimensions: \",l_np.ndim)\n",
        "print(\"Size of vector\",l_np.size,\"\\n\")\n",
        "l_2 = [[1,2],[3,4]]\n",
        "l_2_np = np.array(l_2)\n",
        "print(\"2 dimensional matrix: \",l_2_np)\n",
        "print(\"Shape of array: \",l_2_np.shape)\n",
        "print(\"Number of dimensions: \",l_2_np.ndim)\n",
        "print(\"Size of matrix\",l_2_np.size,\"\\n\")\n",
        "#Creating numpy array of random number\n",
        "l_3_np = np.random.rand(3,3)\n",
        "print(\"Creating a random matrix of values between 0 and 1:\\n\",l_3_np,\"\\n\")\n",
        "\n",
        "l_4_np = np.random.randint(10,size=(3,3))\n",
        "print(\"Creating a random matrix of integer values between 0 and 10\",l_4_np,\"\\n\")\n",
        "\n",
        "l_5_np = np.random.randn(3,3)\n",
        "print(\"Creating a random matrix of values between 0 and 1 with mean around 0 and variance around 1\",l_5_np,\"\\n\")\n",
        "print(\"MEAN:\",l_5_np.mean())\n",
        "print(\"VARIANCE:\",l_5_np.var())"
      ],
      "execution_count": 61,
      "outputs": [
        {
          "output_type": "stream",
          "text": [
            "1 dimensional vector:  [1 2 3 4]\n",
            "Shape of vector:  (4,)\n",
            "Number of dimensions:  1\n",
            "Size of vector 4 \n",
            "\n",
            "2 dimensional matrix:  [[1 2]\n",
            " [3 4]]\n",
            "Shape of array:  (2, 2)\n",
            "Number of dimensions:  2\n",
            "Size of matrix 4 \n",
            "\n",
            "Creating a random matrix of values between 0 and 1:\n",
            " [[0.74733717 0.48579778 0.11359617]\n",
            " [0.38737047 0.71312626 0.1330726 ]\n",
            " [0.57429332 0.44797086 0.87380091]] \n",
            "\n",
            "Creating a random matrix of integer values between 0 and 10 [[8 3 6]\n",
            " [4 7 3]\n",
            " [3 7 7]] \n",
            "\n",
            "Creating a random matrix of values between 0 and 1 with mean around 0 and variance around 1 [[ 0.0932354   1.91791659 -0.24173691]\n",
            " [ 0.09388054  0.34763063 -0.29099517]\n",
            " [-0.0689341   0.76861469  0.61977802]] \n",
            "\n",
            "MEAN: 0.35993218818758194\n",
            "VARIANCE: 0.4192841152452231\n"
          ],
          "name": "stdout"
        }
      ]
    },
    {
      "cell_type": "code",
      "metadata": {
        "id": "5a42V5GnXkK0",
        "colab_type": "code",
        "colab": {
          "base_uri": "https://localhost:8080/",
          "height": 91
        },
        "outputId": "8624c8f7-4543-4633-d3c1-bf4d086c8f4a"
      },
      "source": [
        "#Vector: D=1\n",
        "#Matrix: D>2\n",
        "v = [1,0.5,4]\n",
        "v_np = np.array(v)\n",
        "print(v_np+2)\n",
        "print(v_np/2)\n",
        "print(v_np*2)\n",
        "print(v_np-2)"
      ],
      "execution_count": 62,
      "outputs": [
        {
          "output_type": "stream",
          "text": [
            "[3.  2.5 6. ]\n",
            "[0.5  0.25 2.  ]\n",
            "[2. 1. 8.]\n",
            "[-1.  -1.5  2. ]\n"
          ],
          "name": "stdout"
        }
      ]
    },
    {
      "cell_type": "code",
      "metadata": {
        "id": "LCBojDnVYgUO",
        "colab_type": "code",
        "colab": {
          "base_uri": "https://localhost:8080/",
          "height": 460
        },
        "outputId": "dfefd6f2-58b2-4cff-8255-b83db424614a"
      },
      "source": [
        "#Two numpy operations\n",
        "a = np.array([1,2,3])\n",
        "b = np.array([4,5,6])\n",
        "#Arithmetic\n",
        "print(\"Arithmetic Operations:\")\n",
        "print(a+b)\n",
        "print(a-b)\n",
        "print(a*b)\n",
        "print(a/b)\n",
        "#Stacking two vectors\n",
        "print(\"\\nStacking two vectors.\")\n",
        "print(\"Horizontal: \",np.hstack((a,b)))\n",
        "print(\"Vertical: \",np.vstack((a,b)))\n",
        "#Creating plain matrices of zeroes and ones\n",
        "print(\"\\nCreating zero matrix of (3,3), one matrix of (3,3) and identity matrix of (3,3).\")\n",
        "zero = np.zeros((3,3))\n",
        "print(\"Zero Matrix\\n\",zero)\n",
        "one = np.ones((3,3))\n",
        "print(\"One Matrix\\n\",one)\n",
        "id = np.eye(3) #Identity Matrix\n",
        "print(\"Identity Matrix\\n\",id)"
      ],
      "execution_count": 63,
      "outputs": [
        {
          "output_type": "stream",
          "text": [
            "Arithmetic Operations:\n",
            "[5 7 9]\n",
            "[-3 -3 -3]\n",
            "[ 4 10 18]\n",
            "[0.25 0.4  0.5 ]\n",
            "\n",
            "Stacking two vectors.\n",
            "Horizontal:  [1 2 3 4 5 6]\n",
            "Vertical:  [[1 2 3]\n",
            " [4 5 6]]\n",
            "\n",
            "Creating zero matrix of (3,3), one matrix of (3,3) and identity matrix of (3,3).\n",
            "Zero Matrix\n",
            " [[0. 0. 0.]\n",
            " [0. 0. 0.]\n",
            " [0. 0. 0.]]\n",
            "One Matrix\n",
            " [[1. 1. 1.]\n",
            " [1. 1. 1.]\n",
            " [1. 1. 1.]]\n",
            "Identity Matrix\n",
            " [[1. 0. 0.]\n",
            " [0. 1. 0.]\n",
            " [0. 0. 1.]]\n"
          ],
          "name": "stdout"
        }
      ]
    },
    {
      "cell_type": "code",
      "metadata": {
        "id": "NINoPfrndXDC",
        "colab_type": "code",
        "colab": {
          "base_uri": "https://localhost:8080/",
          "height": 109
        },
        "outputId": "59afbe09-242d-4ae1-8313-2022db7436f4"
      },
      "source": [
        "#Slicing/Indexing Numpy Arrays\n",
        "s = np.random.randint(10,size=(3,3))\n",
        "print(\"Random Matrix:\\n\",s,\"\\n\")"
      ],
      "execution_count": 76,
      "outputs": [
        {
          "output_type": "stream",
          "text": [
            "Random Matrix:\n",
            " [[4 7 3]\n",
            " [8 4 8]\n",
            " [0 8 7]] \n",
            "\n"
          ],
          "name": "stdout"
        }
      ]
    },
    {
      "cell_type": "code",
      "metadata": {
        "id": "q1Zi7xZwMLnj",
        "colab_type": "code",
        "colab": {
          "base_uri": "https://localhost:8080/",
          "height": 128
        },
        "outputId": "df2e427d-716b-496c-ea5f-f29bf7f22992"
      },
      "source": [
        "print(\"Printing out the first row: \",s[0,:])\n",
        "print(\"Printing out the first row: \",s[:,0])\n",
        "print(\"Printing a 2x2 out of the 3x3 matrix: \",s[np.ix_([0,1],[0,1])])\n",
        "print(\"Printing a 2x2 out of the 3x3 matrix: \",s[0:2,0:2])"
      ],
      "execution_count": 85,
      "outputs": [
        {
          "output_type": "stream",
          "text": [
            "Printing out the first row:  [4 7 3]\n",
            "Printing out the first row:  [4 8 0]\n",
            "Printing a 2x2 out of the 3x3 matrix:  [[4 7]\n",
            " [8 4]]\n",
            "Printing a 2x2 out of the 3x3 matrix:  [[4 7]\n",
            " [8 4]]\n"
          ],
          "name": "stdout"
        }
      ]
    },
    {
      "cell_type": "markdown",
      "metadata": {
        "id": "2qZ974z7AWQc",
        "colab_type": "text"
      },
      "source": [
        "## Section 2: Pandas"
      ]
    },
    {
      "cell_type": "markdown",
      "metadata": {
        "id": "u_vsvUc-Ehx_",
        "colab_type": "text"
      },
      "source": [
        "## Section 3: Matplotlib\n"
      ]
    },
    {
      "cell_type": "code",
      "metadata": {
        "id": "iFZZPRjdPVHw",
        "colab_type": "code",
        "colab": {}
      },
      "source": [
        ""
      ],
      "execution_count": 0,
      "outputs": []
    }
  ]
}