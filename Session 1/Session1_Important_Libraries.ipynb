{
  "nbformat": 4,
  "nbformat_minor": 0,
  "metadata": {
    "colab": {
      "name": "Session1:Important Libraries",
      "provenance": [],
      "collapsed_sections": []
    },
    "kernelspec": {
      "name": "python3",
      "display_name": "Python 3"
    }
  },
  "cells": [
    {
      "cell_type": "markdown",
      "metadata": {
        "id": "FaGk4IfeD9Xn",
        "colab_type": "text"
      },
      "source": [
        "## ACM-W, MTC and MSPs present: Data Science Series - Session 1: The Numpy Stack (Numpy and Matplotlib)"
      ]
    },
    {
      "cell_type": "markdown",
      "metadata": {
        "id": "yMdT0GiwAVUs",
        "colab_type": "text"
      },
      "source": [
        "## Section 1: Numpy "
      ]
    },
    {
      "cell_type": "code",
      "metadata": {
        "id": "ujm3bOuSAPAH",
        "colab_type": "code",
        "colab": {}
      },
      "source": [
        "import numpy as np"
      ],
      "execution_count": 0,
      "outputs": []
    },
    {
      "cell_type": "code",
      "metadata": {
        "id": "dVxjSPhgEgwo",
        "colab_type": "code",
        "outputId": "b531f977-1bb7-42fd-84ff-01fee33162b9",
        "colab": {
          "base_uri": "https://localhost:8080/",
          "height": 497
        }
      },
      "source": [
        "#Creating a numpy array from python array\n",
        "l = [1,2,3,4]\n",
        "l_np = np.array(l)\n",
        "print(\"1 dimensional vector: \",l_np)\n",
        "print(\"Shape of vector: \",l_np.shape)\n",
        "print(\"Number of dimensions: \",l_np.ndim)\n",
        "print(\"Size of vector\",l_np.size,\"\\n\")\n",
        "l_2 = [[1,2],[3,4]]\n",
        "l_2_np = np.array(l_2)\n",
        "print(\"2 dimensional matrix: \",l_2_np)\n",
        "print(\"Shape of array: \",l_2_np.shape)\n",
        "print(\"Number of dimensions: \",l_2_np.ndim)\n",
        "print(\"Size of matrix\",l_2_np.size,\"\\n\")\n",
        "#Creating numpy array of random number\n",
        "l_3_np = np.random.rand(3,3)\n",
        "print(\"Creating a random matrix of values between 0 and 1:\\n\",l_3_np,\"\\n\")\n",
        "\n",
        "l_4_np = np.random.randint(10,size=(3,3))\n",
        "print(\"Creating a random matrix of integer values between 0 and 10\",l_4_np,\"\\n\")\n",
        "\n",
        "l_5_np = np.random.randn(3,3)\n",
        "print(\"Creating a random matrix of values between 0 and 1 with mean around 0 and variance around 1\",l_5_np,\"\\n\")\n",
        "print(\"MEAN:\",l_5_np.mean())\n",
        "print(\"VARIANCE:\",l_5_np.var())"
      ],
      "execution_count": 2,
      "outputs": [
        {
          "output_type": "stream",
          "text": [
            "1 dimensional vector:  [1 2 3 4]\n",
            "Shape of vector:  (4,)\n",
            "Number of dimensions:  1\n",
            "Size of vector 4 \n",
            "\n",
            "2 dimensional matrix:  [[1 2]\n",
            " [3 4]]\n",
            "Shape of array:  (2, 2)\n",
            "Number of dimensions:  2\n",
            "Size of matrix 4 \n",
            "\n",
            "Creating a random matrix of values between 0 and 1:\n",
            " [[0.5131016  0.73017557 0.45012778]\n",
            " [0.02501697 0.2170281  0.24358011]\n",
            " [0.17159501 0.05915451 0.30686096]] \n",
            "\n",
            "Creating a random matrix of integer values between 0 and 10 [[2 8 1]\n",
            " [7 8 5]\n",
            " [0 6 3]] \n",
            "\n",
            "Creating a random matrix of values between 0 and 1 with mean around 0 and variance around 1 [[-0.82291143  0.67850489 -1.34463115]\n",
            " [-0.07284434  0.57286732  0.83241268]\n",
            " [ 0.93101128  1.11719255  0.5477678 ]] \n",
            "\n",
            "MEAN: 0.27104106589196847\n",
            "VARIANCE: 0.6361956225756242\n"
          ],
          "name": "stdout"
        }
      ]
    },
    {
      "cell_type": "code",
      "metadata": {
        "id": "5a42V5GnXkK0",
        "colab_type": "code",
        "outputId": "3b5525c1-5c60-4def-cecd-cf37e707f5b8",
        "colab": {
          "base_uri": "https://localhost:8080/",
          "height": 91
        }
      },
      "source": [
        "#Vector: D=1\n",
        "#Matrix: D>2\n",
        "v = [1,0.5,4]\n",
        "v_np = np.array(v)\n",
        "print(v_np+2)\n",
        "print(v_np/2)\n",
        "print(v_np*2)\n",
        "print(v_np-2)"
      ],
      "execution_count": 3,
      "outputs": [
        {
          "output_type": "stream",
          "text": [
            "[3.  2.5 6. ]\n",
            "[0.5  0.25 2.  ]\n",
            "[2. 1. 8.]\n",
            "[-1.  -1.5  2. ]\n"
          ],
          "name": "stdout"
        }
      ]
    },
    {
      "cell_type": "code",
      "metadata": {
        "id": "LCBojDnVYgUO",
        "colab_type": "code",
        "outputId": "053e17f4-0a3a-4c59-d926-c183ed54615c",
        "colab": {
          "base_uri": "https://localhost:8080/",
          "height": 460
        }
      },
      "source": [
        "#Two numpy operations\n",
        "a = np.array([1,2,3])\n",
        "b = np.array([4,5,6])\n",
        "#Arithmetic\n",
        "print(\"Arithmetic Operations:\")\n",
        "print(a+b)\n",
        "print(a-b)\n",
        "print(a*b)\n",
        "print(a/b)\n",
        "#Stacking two vectors\n",
        "print(\"\\nStacking two vectors.\")\n",
        "print(\"Horizontal: \",np.hstack((a,b)))\n",
        "print(\"Vertical: \",np.vstack((a,b)))\n",
        "#Creating plain matrices of zeroes and ones\n",
        "print(\"\\nCreating zero matrix of (3,3), one matrix of (3,3) and identity matrix of (3,3).\")\n",
        "zero = np.zeros((3,3))\n",
        "print(\"Zero Matrix\\n\",zero)\n",
        "one = np.ones((3,3))\n",
        "print(\"One Matrix\\n\",one)\n",
        "id = np.eye(3) #Identity Matrix\n",
        "print(\"Identity Matrix\\n\",id)"
      ],
      "execution_count": 4,
      "outputs": [
        {
          "output_type": "stream",
          "text": [
            "Arithmetic Operations:\n",
            "[5 7 9]\n",
            "[-3 -3 -3]\n",
            "[ 4 10 18]\n",
            "[0.25 0.4  0.5 ]\n",
            "\n",
            "Stacking two vectors.\n",
            "Horizontal:  [1 2 3 4 5 6]\n",
            "Vertical:  [[1 2 3]\n",
            " [4 5 6]]\n",
            "\n",
            "Creating zero matrix of (3,3), one matrix of (3,3) and identity matrix of (3,3).\n",
            "Zero Matrix\n",
            " [[0. 0. 0.]\n",
            " [0. 0. 0.]\n",
            " [0. 0. 0.]]\n",
            "One Matrix\n",
            " [[1. 1. 1.]\n",
            " [1. 1. 1.]\n",
            " [1. 1. 1.]]\n",
            "Identity Matrix\n",
            " [[1. 0. 0.]\n",
            " [0. 1. 0.]\n",
            " [0. 0. 1.]]\n"
          ],
          "name": "stdout"
        }
      ]
    },
    {
      "cell_type": "code",
      "metadata": {
        "id": "NINoPfrndXDC",
        "colab_type": "code",
        "outputId": "9d94ed97-9121-4cb5-e64a-5ca750e2357d",
        "colab": {
          "base_uri": "https://localhost:8080/",
          "height": 109
        }
      },
      "source": [
        "#Slicing/Indexing Numpy Arrays\n",
        "s = np.random.randint(10,size=(3,3))\n",
        "print(\"Random Matrix:\\n\",s,\"\\n\")"
      ],
      "execution_count": 5,
      "outputs": [
        {
          "output_type": "stream",
          "text": [
            "Random Matrix:\n",
            " [[7 2 2]\n",
            " [3 2 6]\n",
            " [9 2 4]] \n",
            "\n"
          ],
          "name": "stdout"
        }
      ]
    },
    {
      "cell_type": "code",
      "metadata": {
        "id": "q1Zi7xZwMLnj",
        "colab_type": "code",
        "outputId": "675a8f53-a008-4b24-f701-967d736843f3",
        "colab": {
          "base_uri": "https://localhost:8080/",
          "height": 128
        }
      },
      "source": [
        "print(\"Printing out the first row: \",s[0,:])\n",
        "print(\"Printing out the first row: \",s[:,0])\n",
        "print(\"Printing a 2x2 out of the 3x3 matrix: \",s[np.ix_([0,1],[0,1])])\n",
        "print(\"Printing a 2x2 out of the 3x3 matrix: \",s[0:2,0:2])"
      ],
      "execution_count": 6,
      "outputs": [
        {
          "output_type": "stream",
          "text": [
            "Printing out the first row:  [7 2 2]\n",
            "Printing out the first row:  [7 3 9]\n",
            "Printing a 2x2 out of the 3x3 matrix:  [[7 2]\n",
            " [3 2]]\n",
            "Printing a 2x2 out of the 3x3 matrix:  [[7 2]\n",
            " [3 2]]\n"
          ],
          "name": "stdout"
        }
      ]
    },
    {
      "cell_type": "markdown",
      "metadata": {
        "id": "u_vsvUc-Ehx_",
        "colab_type": "text"
      },
      "source": [
        "## Section 2: Matplotlib\n"
      ]
    },
    {
      "cell_type": "code",
      "metadata": {
        "id": "iFZZPRjdPVHw",
        "colab_type": "code",
        "colab": {}
      },
      "source": [
        "import matplotlib.pyplot as plt"
      ],
      "execution_count": 0,
      "outputs": []
    },
    {
      "cell_type": "code",
      "metadata": {
        "id": "eh08Zw7QQkS0",
        "colab_type": "code",
        "outputId": "09c0ddc2-b71a-4e73-f670-6d23ec27e634",
        "colab": {
          "base_uri": "https://localhost:8080/",
          "height": 313
        }
      },
      "source": [
        "fig = plt.figure()\n",
        "ax = plt.axes()\n",
        "#Let us plot a basic curve f(x)=x;\n",
        "plt.title(\"f(x)=x\")\n",
        "plt.xlabel(\"x\")\n",
        "plt.ylabel(\"f(x)=y=x\")\n",
        "plt.plot([1,2,3],[1,2,3])"
      ],
      "execution_count": 8,
      "outputs": [
        {
          "output_type": "execute_result",
          "data": {
            "text/plain": [
              "[<matplotlib.lines.Line2D at 0x7f308cbfb3c8>]"
            ]
          },
          "metadata": {
            "tags": []
          },
          "execution_count": 8
        },
        {
          "output_type": "display_data",
          "data": {
            "image/png": "[encoded data removed]",
            "text/plain": [
              "<Figure size 432x288 with 1 Axes>"
            ]
          },
          "metadata": {
            "tags": []
          }
        }
      ]
    },
    {
      "cell_type": "code",
      "metadata": {
        "id": "nJbD7qxCRMCS",
        "colab_type": "code",
        "outputId": "cf4c03ec-efa5-4e3c-dfd9-837165ee9361",
        "colab": {
          "base_uri": "https://localhost:8080/",
          "height": 299
        }
      },
      "source": [
        "#Lets now make a scatter curve\n",
        "fig2 = plt.figure()\n",
        "plt.title(\"Scatter Plot\")\n",
        "rad_x = np.random.rand(200)\n",
        "rad_y = np.random.rand(200)\n",
        "plt.scatter(rad_x,rad_y)"
      ],
      "execution_count": 9,
      "outputs": [
        {
          "output_type": "execute_result",
          "data": {
            "text/plain": [
              "<matplotlib.collections.PathCollection at 0x7f308a3a3048>"
            ]
          },
          "metadata": {
            "tags": []
          },
          "execution_count": 9
        },
        {
          "output_type": "display_data",
          "data": {
            "image/png": "[encoded data removed]",
            "text/plain": [
              "<Figure size 432x288 with 1 Axes>"
            ]
          },
          "metadata": {
            "tags": []
          }
        }
      ]
    },
    {
      "cell_type": "code",
      "metadata": {
        "id": "vNWSLuyXaT2T",
        "colab_type": "code",
        "outputId": "551ba885-76e6-45d4-ac9e-d6ac29d453b1",
        "colab": {
          "base_uri": "https://localhost:8080/",
          "height": 54
        }
      },
      "source": [
        "print(np.random.randint(2,6,size=(2,2)))"
      ],
      "execution_count": 10,
      "outputs": [
        {
          "output_type": "stream",
          "text": [
            "[[3 3]\n",
            " [4 4]]\n"
          ],
          "name": "stdout"
        }
      ]
    }
  ]
}